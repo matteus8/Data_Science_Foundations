{
 "cells": [
  {
   "cell_type": "markdown",
   "id": "0c16b524",
   "metadata": {},
   "source": [
    "# THE YOUTUBE TUTORIAL"
   ]
  },
  {
   "cell_type": "code",
   "execution_count": 62,
   "id": "7bc6e5c0",
   "metadata": {},
   "outputs": [],
   "source": [
    "#https://www.youtube.com/watch?v=yGN28LY5VuA"
   ]
  },
  {
   "cell_type": "code",
   "execution_count": 60,
   "id": "971f61a7",
   "metadata": {
    "scrolled": false
   },
   "outputs": [
    {
     "name": "stdout",
     "output_type": "stream",
     "text": [
      "Hello World!\n"
     ]
    }
   ],
   "source": [
    "print('Hello World!')"
   ]
  },
  {
   "cell_type": "code",
   "execution_count": 2,
   "id": "9be8b47a",
   "metadata": {},
   "outputs": [],
   "source": [
    "person_var = {'name':'Still', 'fav_color':'blue', 'fav_num':22}"
   ]
  },
  {
   "cell_type": "code",
   "execution_count": 7,
   "id": "21d9cdf4",
   "metadata": {},
   "outputs": [
    {
     "data": {
      "text/plain": [
       "'blue'"
      ]
     },
     "execution_count": 7,
     "metadata": {},
     "output_type": "execute_result"
    }
   ],
   "source": [
    "person_var['fav_color']"
   ]
  },
  {
   "cell_type": "code",
   "execution_count": 8,
   "id": "48161822",
   "metadata": {},
   "outputs": [],
   "source": [
    "#remember a set is like tuple; its imutable \n",
    "#but it does not hold duplicates\n",
    "#it uses {}\n"
   ]
  },
  {
   "cell_type": "markdown",
   "id": "2799d732",
   "metadata": {},
   "source": [
    "# Lists"
   ]
  },
  {
   "cell_type": "code",
   "execution_count": 13,
   "id": "1b051d0c",
   "metadata": {},
   "outputs": [],
   "source": [
    "# Create\n",
    "names = ['neil armstrong', 'buzz aldrin', 'sally ride', 'yuri gagarin', 'elon musk']"
   ]
  },
  {
   "cell_type": "code",
   "execution_count": 15,
   "id": "6ca453b0",
   "metadata": {},
   "outputs": [
    {
     "data": {
      "text/plain": [
       "['neil armstrong', 'buzz aldrin', 'sally ride', 'yuri gagarin', 'elon musk']"
      ]
     },
     "execution_count": 15,
     "metadata": {},
     "output_type": "execute_result"
    }
   ],
   "source": [
    "# Read\n",
    "names"
   ]
  },
  {
   "cell_type": "code",
   "execution_count": 16,
   "id": "e2722e53",
   "metadata": {},
   "outputs": [
    {
     "data": {
      "text/plain": [
       "'neil armstrong'"
      ]
     },
     "execution_count": 16,
     "metadata": {},
     "output_type": "execute_result"
    }
   ],
   "source": [
    "names[0]"
   ]
  },
  {
   "cell_type": "code",
   "execution_count": 17,
   "id": "fe976c5e",
   "metadata": {},
   "outputs": [
    {
     "data": {
      "text/plain": [
       "'elon musk'"
      ]
     },
     "execution_count": 17,
     "metadata": {},
     "output_type": "execute_result"
    }
   ],
   "source": [
    "names[-1]"
   ]
  },
  {
   "cell_type": "code",
   "execution_count": 18,
   "id": "ab87cdfe",
   "metadata": {},
   "outputs": [
    {
     "data": {
      "text/plain": [
       "5"
      ]
     },
     "execution_count": 18,
     "metadata": {},
     "output_type": "execute_result"
    }
   ],
   "source": [
    "len(names)"
   ]
  },
  {
   "cell_type": "code",
   "execution_count": 11,
   "id": "738db7f3",
   "metadata": {},
   "outputs": [],
   "source": [
    "# Update"
   ]
  },
  {
   "cell_type": "code",
   "execution_count": 19,
   "id": "be92a407",
   "metadata": {},
   "outputs": [],
   "source": [
    "names[-1] = 'cool guy'"
   ]
  },
  {
   "cell_type": "code",
   "execution_count": 20,
   "id": "7d4a207d",
   "metadata": {},
   "outputs": [
    {
     "data": {
      "text/plain": [
       "['neil armstrong', 'buzz aldrin', 'sally ride', 'yuri gagarin', 'cool guy']"
      ]
     },
     "execution_count": 20,
     "metadata": {},
     "output_type": "execute_result"
    }
   ],
   "source": [
    "names"
   ]
  },
  {
   "cell_type": "code",
   "execution_count": 22,
   "id": "684b568e",
   "metadata": {},
   "outputs": [],
   "source": [
    "names.append('elon musk')"
   ]
  },
  {
   "cell_type": "code",
   "execution_count": 23,
   "id": "b403fd71",
   "metadata": {},
   "outputs": [
    {
     "data": {
      "text/plain": [
       "['neil armstrong',\n",
       " 'buzz aldrin',\n",
       " 'sally ride',\n",
       " 'yuri gagarin',\n",
       " 'cool guy',\n",
       " 'elon musk']"
      ]
     },
     "execution_count": 23,
     "metadata": {},
     "output_type": "execute_result"
    }
   ],
   "source": [
    "names"
   ]
  },
  {
   "cell_type": "code",
   "execution_count": 26,
   "id": "18f30563",
   "metadata": {},
   "outputs": [],
   "source": [
    "names.insert??"
   ]
  },
  {
   "cell_type": "code",
   "execution_count": 28,
   "id": "bfcdfb33",
   "metadata": {},
   "outputs": [],
   "source": [
    "names.insert(0, 'richard benson')"
   ]
  },
  {
   "cell_type": "code",
   "execution_count": 33,
   "id": "71d019cf",
   "metadata": {},
   "outputs": [
    {
     "data": {
      "text/plain": [
       "['neil armstrong', 'buzz', 'yuri', 'elon musk', 'sally ride']"
      ]
     },
     "execution_count": 33,
     "metadata": {},
     "output_type": "execute_result"
    }
   ],
   "source": [
    "names"
   ]
  },
  {
   "cell_type": "code",
   "execution_count": 30,
   "id": "af0930f5",
   "metadata": {},
   "outputs": [
    {
     "data": {
      "text/plain": [
       "'richard benson'"
      ]
     },
     "execution_count": 30,
     "metadata": {},
     "output_type": "execute_result"
    }
   ],
   "source": [
    "# Delete\n",
    "names[0]"
   ]
  },
  {
   "cell_type": "code",
   "execution_count": 32,
   "id": "8e071db1",
   "metadata": {},
   "outputs": [],
   "source": [
    "del names[0]"
   ]
  },
  {
   "cell_type": "code",
   "execution_count": 33,
   "id": "4e9fc62b",
   "metadata": {},
   "outputs": [
    {
     "data": {
      "text/plain": [
       "['neil armstrong',\n",
       " 'buzz aldrin',\n",
       " 'sally ride',\n",
       " 'yuri gagarin',\n",
       " 'cool guy',\n",
       " 'elon musk']"
      ]
     },
     "execution_count": 33,
     "metadata": {},
     "output_type": "execute_result"
    }
   ],
   "source": [
    "names"
   ]
  },
  {
   "cell_type": "code",
   "execution_count": 34,
   "id": "0b800991",
   "metadata": {},
   "outputs": [],
   "source": [
    "del names[-2]"
   ]
  },
  {
   "cell_type": "code",
   "execution_count": 35,
   "id": "68b59133",
   "metadata": {},
   "outputs": [
    {
     "data": {
      "text/plain": [
       "['neil armstrong', 'buzz aldrin', 'sally ride', 'yuri gagarin', 'elon musk']"
      ]
     },
     "execution_count": 35,
     "metadata": {},
     "output_type": "execute_result"
    }
   ],
   "source": [
    "names"
   ]
  },
  {
   "cell_type": "markdown",
   "id": "69507417",
   "metadata": {},
   "source": [
    "# Dictionaries"
   ]
  },
  {
   "cell_type": "code",
   "execution_count": 38,
   "id": "6b3f4784",
   "metadata": {},
   "outputs": [],
   "source": [
    "# Create"
   ]
  },
  {
   "cell_type": "code",
   "execution_count": 47,
   "id": "c688a263",
   "metadata": {},
   "outputs": [],
   "source": [
    "astronaut = {\n",
    "    'name':\"elon musk\",\n",
    "    'suit_size':\"large\",\n",
    "    'allergies':\"peanuts\"\n",
    "}"
   ]
  },
  {
   "cell_type": "code",
   "execution_count": 39,
   "id": "dd488b88",
   "metadata": {},
   "outputs": [],
   "source": [
    "# Read"
   ]
  },
  {
   "cell_type": "code",
   "execution_count": 46,
   "id": "187b60cc",
   "metadata": {},
   "outputs": [
    {
     "data": {
      "text/plain": [
       "{'name': 'elon musk', 'suit_size': 'large', 'allergies': 'peanuts'}"
      ]
     },
     "execution_count": 46,
     "metadata": {},
     "output_type": "execute_result"
    }
   ],
   "source": [
    "astronaut"
   ]
  },
  {
   "cell_type": "code",
   "execution_count": 50,
   "id": "fef88b48",
   "metadata": {},
   "outputs": [],
   "source": [
    "suit_size = astronaut['suit_size']"
   ]
  },
  {
   "cell_type": "code",
   "execution_count": 56,
   "id": "013bbb8f",
   "metadata": {},
   "outputs": [
    {
     "data": {
      "text/plain": [
       "'name'"
      ]
     },
     "execution_count": 56,
     "metadata": {},
     "output_type": "execute_result"
    }
   ],
   "source": [
    "list(astronaut.keys())[0]"
   ]
  },
  {
   "cell_type": "code",
   "execution_count": 57,
   "id": "955757d7",
   "metadata": {},
   "outputs": [
    {
     "data": {
      "text/plain": [
       "dict_values(['elon musk', 'large', 'peanuts'])"
      ]
     },
     "execution_count": 57,
     "metadata": {},
     "output_type": "execute_result"
    }
   ],
   "source": [
    "astronaut.values()"
   ]
  },
  {
   "cell_type": "code",
   "execution_count": 40,
   "id": "3c1af9ef",
   "metadata": {},
   "outputs": [],
   "source": [
    "# Update"
   ]
  },
  {
   "cell_type": "code",
   "execution_count": 58,
   "id": "fec0c16a",
   "metadata": {},
   "outputs": [
    {
     "data": {
      "text/plain": [
       "dict_keys(['name', 'suit_size', 'allergies'])"
      ]
     },
     "execution_count": 58,
     "metadata": {},
     "output_type": "execute_result"
    }
   ],
   "source": [
    "astronaut.keys()"
   ]
  },
  {
   "cell_type": "code",
   "execution_count": 61,
   "id": "c512f14a",
   "metadata": {},
   "outputs": [],
   "source": [
    "astronaut['allergies'] = 'mango'"
   ]
  },
  {
   "cell_type": "code",
   "execution_count": 62,
   "id": "c3652c3c",
   "metadata": {},
   "outputs": [
    {
     "data": {
      "text/plain": [
       "'mango'"
      ]
     },
     "execution_count": 62,
     "metadata": {},
     "output_type": "execute_result"
    }
   ],
   "source": [
    "astronaut['allergies']"
   ]
  },
  {
   "cell_type": "code",
   "execution_count": null,
   "id": "901026ff",
   "metadata": {},
   "outputs": [],
   "source": [
    "#Delete"
   ]
  },
  {
   "cell_type": "code",
   "execution_count": null,
   "id": "d2e9f730",
   "metadata": {},
   "outputs": [],
   "source": [
    "del <>"
   ]
  },
  {
   "cell_type": "markdown",
   "id": "3b679a6f",
   "metadata": {},
   "source": [
    "# CONDITIONS AND LOGIC"
   ]
  },
  {
   "cell_type": "code",
   "execution_count": 64,
   "id": "e2efcccf",
   "metadata": {},
   "outputs": [],
   "source": [
    "# Applying logic using the IF statement\n",
    "name = 'Neil Armstrong'\n",
    "\n",
    "if name == 'Neil Armstrong':\n",
    "    print(\"What's Up Neil!\")"
   ]
  },
  {
   "cell_type": "code",
   "execution_count": 67,
   "id": "28162807",
   "metadata": {},
   "outputs": [
    {
     "name": "stdout",
     "output_type": "stream",
     "text": [
      "Number is greater then of equal to 5\n"
     ]
    }
   ],
   "source": [
    "test_number = 5\n",
    "if test_number >= 5:\n",
    "    print('Number is greater then of equal to 5')"
   ]
  },
  {
   "cell_type": "code",
   "execution_count": 79,
   "id": "0b0495cf",
   "metadata": {},
   "outputs": [
    {
     "name": "stdout",
     "output_type": "stream",
     "text": [
      "False\n"
     ]
    }
   ],
   "source": [
    "probability = 0.1\n",
    "if probability >= 0.5:\n",
    "    print(True)\n",
    "# print statement if probability is below 0\n",
    "elif probability < 0:\n",
    "    print('check yo probabability')\n",
    "else:\n",
    "    print(False)"
   ]
  },
  {
   "cell_type": "code",
   "execution_count": 32,
   "id": "ddc7101b",
   "metadata": {},
   "outputs": [
    {
     "data": {
      "text/plain": [
       "True"
      ]
     },
     "execution_count": 32,
     "metadata": {},
     "output_type": "execute_result"
    }
   ],
   "source": [
    "names = ['neil armstrong', 'buzz', 'yuri', 'elon musk', 'sally ride']\n",
    "'elon musk' in names"
   ]
  },
  {
   "cell_type": "code",
   "execution_count": 84,
   "id": "0df90770",
   "metadata": {},
   "outputs": [
    {
     "name": "stdout",
     "output_type": "stream",
     "text": [
      "elon is here\n"
     ]
    }
   ],
   "source": [
    "if 'elon musk' in names:\n",
    "    print(\"elon is here\")"
   ]
  },
  {
   "cell_type": "markdown",
   "id": "8597311d",
   "metadata": {},
   "source": [
    "# Loops"
   ]
  },
  {
   "cell_type": "code",
   "execution_count": 31,
   "id": "6ffb6823",
   "metadata": {},
   "outputs": [
    {
     "ename": "NameError",
     "evalue": "name 'names' is not defined",
     "output_type": "error",
     "traceback": [
      "\u001b[1;31m---------------------------------------------------------------------------\u001b[0m",
      "\u001b[1;31mNameError\u001b[0m                                 Traceback (most recent call last)",
      "\u001b[1;32m~\\AppData\\Local\\Temp\\ipykernel_16740\\632931090.py\u001b[0m in \u001b[0;36m<module>\u001b[1;34m\u001b[0m\n\u001b[1;32m----> 1\u001b[1;33m \u001b[0mnames\u001b[0m\u001b[1;33m\u001b[0m\u001b[1;33m\u001b[0m\u001b[0m\n\u001b[0m",
      "\u001b[1;31mNameError\u001b[0m: name 'names' is not defined"
     ]
    }
   ],
   "source": [
    "names"
   ]
  },
  {
   "cell_type": "code",
   "execution_count": 98,
   "id": "05a2063a",
   "metadata": {},
   "outputs": [
    {
     "name": "stdout",
     "output_type": "stream",
     "text": [
      "neil armstrong\n",
      "Pleased to have you here!\n",
      "\n",
      "buzz\n",
      "sup buzz \n",
      "\n",
      "yuri\n",
      "Hey yuri!\n"
     ]
    }
   ],
   "source": [
    "# This is an example of a For Loop\n",
    "for name in names:\n",
    "    print(name)\n",
    "    if name == 'buzz':\n",
    "        print('sup buzz \\n')\n",
    "        #next value in the loop\n",
    "        continue\n",
    "    elif name == 'yuri':\n",
    "        print('Hey yuri!')\n",
    "        #stops the loop\n",
    "        break\n",
    "    elif name == 'elon musk':\n",
    "        print('helloooo elon')\n",
    "    \n",
    "    #catch all\n",
    "    else:\n",
    "        # Placeholder to do nothing\n",
    "        pass\n",
    "        \n",
    "    #outside if statement block\n",
    "    print('Pleased to have you here!\\n')"
   ]
  },
  {
   "cell_type": "code",
   "execution_count": 101,
   "id": "8bd2cb08",
   "metadata": {},
   "outputs": [
    {
     "name": "stdout",
     "output_type": "stream",
     "text": [
      "0\n",
      "1\n",
      "2\n",
      "3\n",
      "4\n",
      "5\n",
      "6\n",
      "7\n",
      "8\n",
      "9\n"
     ]
    }
   ],
   "source": [
    "#loop x number of times (idx being index)\n",
    "for idx in range(10):\n",
    "    print(idx)"
   ]
  },
  {
   "cell_type": "code",
   "execution_count": 104,
   "id": "ca69dead",
   "metadata": {},
   "outputs": [
    {
     "name": "stdout",
     "output_type": "stream",
     "text": [
      "1\n",
      "2\n",
      "3\n",
      "4\n",
      "5\n",
      "6\n",
      "7\n",
      "8\n",
      "9\n",
      "10\n"
     ]
    }
   ],
   "source": [
    "#start with 1 and go to 11 aka 10.\n",
    "for idx in range (1,11):\n",
    "    print(idx)"
   ]
  },
  {
   "cell_type": "markdown",
   "id": "8b6cc821",
   "metadata": {},
   "source": [
    "## while loop"
   ]
  },
  {
   "cell_type": "code",
   "execution_count": 5,
   "id": "9812ce3e",
   "metadata": {},
   "outputs": [
    {
     "name": "stdout",
     "output_type": "stream",
     "text": [
      "Shuttle 1 Launched\n",
      "Shuttle 2 Launched\n",
      "Shuttle 3 Launched\n",
      "Shuttle 4 Launched\n",
      "Shuttle 5 Launched\n",
      "Shuttle 6 Launched\n",
      "Shuttle 7 Launched\n",
      "Shuttle 8 Launched\n",
      "Shuttle 9 Launched\n",
      "Shuttle 10 Launched\n",
      "all shuttles launched\n"
     ]
    }
   ],
   "source": [
    "# create launch variables\n",
    "\n",
    "launched_shuttless = 0\n",
    "total_shuttles = 10\n",
    "\n",
    "while True:\n",
    "    print('Shuttle {} Launched'.format(launched_shuttless+1))\n",
    "    launched_shuttless += 1\n",
    "    \n",
    "    if launched_shuttless == total_shuttles:\n",
    "        print('all shuttles launched')\n",
    "        break"
   ]
  },
  {
   "cell_type": "code",
   "execution_count": 11,
   "id": "0ad587fe",
   "metadata": {},
   "outputs": [
    {
     "data": {
      "text/plain": [
       "{'sweet': 'red', 'sour': 'yellow', 'tart': 'purple'}"
      ]
     },
     "execution_count": 11,
     "metadata": {},
     "output_type": "execute_result"
    }
   ],
   "source": [
    "honey_dict = {\n",
    "    'sweet':'red',\n",
    "    'sour':'yellow',\n",
    "    'tart':'purple'}\n",
    "\n",
    "honey_dict"
   ]
  },
  {
   "cell_type": "code",
   "execution_count": 15,
   "id": "5457a973",
   "metadata": {},
   "outputs": [
    {
     "name": "stdout",
     "output_type": "stream",
     "text": [
      "sweet\n",
      "sour\n",
      "tart\n"
     ]
    }
   ],
   "source": [
    "#loop through keys in a dictionary\n",
    "for key in honey_dict.keys():\n",
    "    print(key)"
   ]
  },
  {
   "cell_type": "code",
   "execution_count": 16,
   "id": "193b727e",
   "metadata": {},
   "outputs": [
    {
     "data": {
      "text/plain": [
       "dict_keys(['sweet', 'sour', 'tart'])"
      ]
     },
     "execution_count": 16,
     "metadata": {},
     "output_type": "execute_result"
    }
   ],
   "source": [
    "honey_dict.keys()"
   ]
  },
  {
   "cell_type": "code",
   "execution_count": 19,
   "id": "fab794f8",
   "metadata": {},
   "outputs": [
    {
     "data": {
      "text/plain": [
       "dict_values(['red', 'yellow', 'purple'])"
      ]
     },
     "execution_count": 19,
     "metadata": {},
     "output_type": "execute_result"
    }
   ],
   "source": [
    "honey_dict.values()"
   ]
  },
  {
   "cell_type": "code",
   "execution_count": 21,
   "id": "97e79a8f",
   "metadata": {},
   "outputs": [
    {
     "name": "stdout",
     "output_type": "stream",
     "text": [
      "red\n",
      "yellow\n",
      "purple\n"
     ]
    }
   ],
   "source": [
    "#loop through values in a dictionary\n",
    "for values in honey_dict.values():\n",
    "    print(values)"
   ]
  },
  {
   "cell_type": "code",
   "execution_count": 29,
   "id": "7df64c00",
   "metadata": {},
   "outputs": [
    {
     "name": "stdout",
     "output_type": "stream",
     "text": [
      "sweet red\n",
      "<class 'str'>\n",
      "<class 'str'>\n",
      "sour yellow\n",
      "<class 'str'>\n",
      "<class 'str'>\n",
      "tart purple\n",
      "<class 'str'>\n",
      "<class 'str'>\n"
     ]
    }
   ],
   "source": [
    "#loop through both keys and values at the same time\n",
    "for key, value in honey_dict.items():\n",
    "    print(key, value)\n",
    "    print(type(key))\n",
    "    print(type(value))\n",
    "    "
   ]
  },
  {
   "cell_type": "code",
   "execution_count": 36,
   "id": "75e59c5f",
   "metadata": {},
   "outputs": [
    {
     "data": {
      "text/plain": [
       "['Neil Armstrong', 'Buzz', 'Yuri', 'Elon Musk', 'Sally Ride']"
      ]
     },
     "execution_count": 36,
     "metadata": {},
     "output_type": "execute_result"
    }
   ],
   "source": [
    "# list comprehesnion\n",
    "new_list = [name.title() for name in names]\n",
    "new_list"
   ]
  },
  {
   "cell_type": "code",
   "execution_count": 38,
   "id": "9594f986",
   "metadata": {},
   "outputs": [
    {
     "data": {
      "text/plain": [
       "['neil armstrong', 'buzz', 'yuri', 'elon musk', 'sally ride']"
      ]
     },
     "execution_count": 38,
     "metadata": {},
     "output_type": "execute_result"
    }
   ],
   "source": [
    "names"
   ]
  },
  {
   "cell_type": "code",
   "execution_count": null,
   "id": "08a52482",
   "metadata": {},
   "outputs": [],
   "source": []
  },
  {
   "cell_type": "markdown",
   "id": "64fdfeba",
   "metadata": {},
   "source": [
    "# Functions"
   ]
  },
  {
   "cell_type": "code",
   "execution_count": 45,
   "id": "959c92a3",
   "metadata": {},
   "outputs": [],
   "source": [
    "#defining a function in Python\n",
    "def launchpad_welcome():\n",
    "    print('hello')\n",
    "    print(1+2)\n",
    "    print(3+4)"
   ]
  },
  {
   "cell_type": "code",
   "execution_count": 46,
   "id": "41f026eb",
   "metadata": {},
   "outputs": [
    {
     "name": "stdout",
     "output_type": "stream",
     "text": [
      "hello\n",
      "3\n",
      "7\n"
     ]
    }
   ],
   "source": [
    "launchpad_welcome()"
   ]
  },
  {
   "cell_type": "code",
   "execution_count": 48,
   "id": "76d87cdf",
   "metadata": {},
   "outputs": [
    {
     "name": "stdout",
     "output_type": "stream",
     "text": [
      "hello\n",
      "3\n",
      "7\n",
      "hello\n",
      "3\n",
      "7\n",
      "hello\n",
      "3\n",
      "7\n",
      "hello\n",
      "3\n",
      "7\n",
      "hello\n",
      "3\n",
      "7\n",
      "hello\n",
      "3\n",
      "7\n",
      "hello\n",
      "3\n",
      "7\n",
      "hello\n",
      "3\n",
      "7\n",
      "hello\n",
      "3\n",
      "7\n",
      "hello\n",
      "3\n",
      "7\n"
     ]
    }
   ],
   "source": [
    "for idx in range(10):\n",
    "    launchpad_welcome()"
   ]
  },
  {
   "cell_type": "code",
   "execution_count": 53,
   "id": "29649e1c",
   "metadata": {},
   "outputs": [],
   "source": [
    "def custom_welcome(name):\n",
    "    print('Welcome {}'.format(name))"
   ]
  },
  {
   "cell_type": "code",
   "execution_count": 57,
   "id": "8ee556c4",
   "metadata": {},
   "outputs": [
    {
     "name": "stdout",
     "output_type": "stream",
     "text": [
      "Welcome Bob\n"
     ]
    }
   ],
   "source": [
    "custom_welcome('Bob')"
   ]
  },
  {
   "cell_type": "code",
   "execution_count": 60,
   "id": "99a87128",
   "metadata": {},
   "outputs": [
    {
     "name": "stdout",
     "output_type": "stream",
     "text": [
      "Welcome neil armstrong\n",
      "Welcome buzz\n",
      "Welcome yuri\n",
      "Welcome elon musk\n",
      "Welcome sally ride\n"
     ]
    }
   ],
   "source": [
    "#loop through names and use function to do so\n",
    "for name in names:\n",
    "    custom_welcome(name)\n",
    "    \n",
    "#running our function"
   ]
  },
  {
   "cell_type": "code",
   "execution_count": 62,
   "id": "a3eed0cf",
   "metadata": {},
   "outputs": [],
   "source": [
    "def custom_welcome_ship(name, space_ship):\n",
    "    print('welcome {} to the {}'.format(name, space_ship))\n",
    "#it's called positional argument becuase here ^^^ postion matters..."
   ]
  },
  {
   "cell_type": "code",
   "execution_count": 65,
   "id": "da81901b",
   "metadata": {},
   "outputs": [
    {
     "name": "stdout",
     "output_type": "stream",
     "text": [
      "welcome bob to the galactica\n"
     ]
    }
   ],
   "source": [
    "custom_welcome_ship('bob', 'galactica')"
   ]
  },
  {
   "cell_type": "code",
   "execution_count": 67,
   "id": "9fbadec6",
   "metadata": {},
   "outputs": [],
   "source": [
    "space_ships = ['galactic 1', 'voyager', 'maximum', 'apple ship', 'microship']"
   ]
  },
  {
   "cell_type": "code",
   "execution_count": 69,
   "id": "443cf178",
   "metadata": {},
   "outputs": [
    {
     "name": "stdout",
     "output_type": "stream",
     "text": [
      "Welcome neil armstrong\n",
      "Welcome buzz\n",
      "Welcome yuri\n",
      "Welcome elon musk\n",
      "Welcome sally ride\n"
     ]
    }
   ],
   "source": [
    "for name in names:\n",
    "    custom_welcome(name)"
   ]
  },
  {
   "cell_type": "code",
   "execution_count": 78,
   "id": "a39d11e7",
   "metadata": {},
   "outputs": [
    {
     "name": "stdout",
     "output_type": "stream",
     "text": [
      "welcome neil armstrong to the galactic 1\n",
      "welcome buzz to the voyager\n",
      "welcome yuri to the maximum\n",
      "welcome elon musk to the apple ship\n",
      "welcome sally ride to the microship\n"
     ]
    }
   ],
   "source": [
    "# used the enumerate function to get the postional index AND the name\n",
    "for idx, name in enumerate(names):\n",
    "    ship = space_ships[idx]\n",
    "    custom_welcome_ship(name, ship)"
   ]
  },
  {
   "cell_type": "code",
   "execution_count": 84,
   "id": "16d7ffbf",
   "metadata": {},
   "outputs": [],
   "source": [
    "#using keyword arguments --vvv\n",
    "def space_suite_color(color='Blue'):\n",
    "    print('Your space suite is {}'.format(color))"
   ]
  },
  {
   "cell_type": "code",
   "execution_count": 85,
   "id": "155c748e",
   "metadata": {},
   "outputs": [
    {
     "name": "stdout",
     "output_type": "stream",
     "text": [
      "Your space suite is Red\n"
     ]
    }
   ],
   "source": [
    "space_suite_color(color='Red')"
   ]
  },
  {
   "cell_type": "code",
   "execution_count": 89,
   "id": "7f4efe92",
   "metadata": {},
   "outputs": [],
   "source": [
    "#look for positional argues first\n",
    "#then it looks for keyword args\n",
    "\n",
    "#what is you want both postional and keyword\n",
    "def space_suite_welcome(name, space_ship, color='Blue'):\n",
    "    print('Welcome {} to the {}, your space suit is {}.'.format(name, space_ship, color))"
   ]
  },
  {
   "cell_type": "code",
   "execution_count": 91,
   "id": "47d7148a",
   "metadata": {},
   "outputs": [
    {
     "name": "stdout",
     "output_type": "stream",
     "text": [
      "Welcome Elon to the iship, your space suit is red.\n"
     ]
    }
   ],
   "source": [
    "space_suite_welcome('Elon', 'iship', color='red')"
   ]
  },
  {
   "cell_type": "code",
   "execution_count": 94,
   "id": "53584a05",
   "metadata": {},
   "outputs": [],
   "source": [
    "#look for positional argues first\n",
    "#then it looks for keyword args... is you add to the def above allergies...\n",
    "#def space_suite_welcome(name, space_ship, color='Blue', allergies='none'):\n",
    "#space_suite_welcome(color='red', 'Elon', 'iship') ---> ERROR (position is wrong)\n",
    "#space_suite_welcome(allergies=, 'Elon', 'iship', allergies='peanuts') ---> this will work and skip the color keyword and leave it as default"
   ]
  },
  {
   "cell_type": "markdown",
   "id": "372a2a69",
   "metadata": {},
   "source": [
    "# KNOW THE DIFFRANCE BETWEEN POSTION AND KEYWORD ARGS IN FUNCTIONS"
   ]
  },
  {
   "cell_type": "code",
   "execution_count": 95,
   "id": "0116b27b",
   "metadata": {},
   "outputs": [],
   "source": [
    "# print vs return functions\n",
    "# you can't assign a print stateument to a variable but you can with return"
   ]
  },
  {
   "cell_type": "code",
   "execution_count": 97,
   "id": "7449dca7",
   "metadata": {},
   "outputs": [
    {
     "data": {
      "text/plain": [
       "6.28"
      ]
     },
     "execution_count": 97,
     "metadata": {},
     "output_type": "execute_result"
    }
   ],
   "source": [
    "# Lambda function (very pythonic) - anonymous function #must be a single line\n",
    "pi = lambda x: x*3.14\n",
    "pi(2)"
   ]
  },
  {
   "cell_type": "markdown",
   "id": "2c645d16",
   "metadata": {},
   "source": [
    "# CLASSES"
   ]
  },
  {
   "cell_type": "code",
   "execution_count": 27,
   "id": "b90d99b4",
   "metadata": {},
   "outputs": [],
   "source": [
    "#calsses are boilerplates for objects\n",
    "class Person():\n",
    "    #the method that runs as soon as you create a class, only need to do this once\n",
    "    def __init__(self, name, age, color):\n",
    "        #create attributes for our person class\n",
    "        self.name = name\n",
    "        self.age = age\n",
    "        self.color = color\n",
    "        \n",
    "    #Date of birth meathod\n",
    "    def year_of_birth(self):\n",
    "        return 2021 - self.age\n",
    "    \n",
    "    #Projected age meathod\n",
    "    def projected_age(self, years=5):\n",
    "        return self.age+years"
   ]
  },
  {
   "cell_type": "code",
   "execution_count": 34,
   "id": "42d02a05",
   "metadata": {
    "scrolled": true
   },
   "outputs": [],
   "source": [
    "new_person = Person('Bob',38, 'blue')"
   ]
  },
  {
   "cell_type": "code",
   "execution_count": 29,
   "id": "b0ad031f",
   "metadata": {},
   "outputs": [
    {
     "data": {
      "text/plain": [
       "'Bob'"
      ]
     },
     "execution_count": 29,
     "metadata": {},
     "output_type": "execute_result"
    }
   ],
   "source": [
    "#accessing a class attribute \".name\"\n",
    "new_person.name"
   ]
  },
  {
   "cell_type": "code",
   "execution_count": 30,
   "id": "677b7474",
   "metadata": {},
   "outputs": [
    {
     "data": {
      "text/plain": [
       "28"
      ]
     },
     "execution_count": 30,
     "metadata": {},
     "output_type": "execute_result"
    }
   ],
   "source": [
    "new_person.age"
   ]
  },
  {
   "cell_type": "code",
   "execution_count": 31,
   "id": "c2adb09c",
   "metadata": {},
   "outputs": [
    {
     "data": {
      "text/plain": [
       "1993"
      ]
     },
     "execution_count": 31,
     "metadata": {},
     "output_type": "execute_result"
    }
   ],
   "source": [
    "#run a meathod\n",
    "new_person.year_of_birth()"
   ]
  },
  {
   "cell_type": "code",
   "execution_count": 36,
   "id": "eac5080b",
   "metadata": {},
   "outputs": [
    {
     "data": {
      "text/plain": [
       "48"
      ]
     },
     "execution_count": 36,
     "metadata": {},
     "output_type": "execute_result"
    }
   ],
   "source": [
    "#run a meathod with a keyword argument\n",
    "new_person.projected_age(years=10)"
   ]
  },
  {
   "cell_type": "markdown",
   "id": "026feaa4",
   "metadata": {},
   "source": [
    "## Classes - Inheritance"
   ]
  },
  {
   "cell_type": "markdown",
   "id": "95eba80e",
   "metadata": {},
   "source": [
    "# INHERITANCE - \n",
    "- PARENT is the class passing down attributes and methods = PERSON\n",
    "- CHILD is the class inheriting the meathods and attributes = ASTRONAUT"
   ]
  },
  {
   "cell_type": "code",
   "execution_count": 67,
   "id": "137568d6",
   "metadata": {},
   "outputs": [],
   "source": [
    "#Create a child class\n",
    "class Astronaut(Person):\n",
    "    \n",
    "    #notice THERE IS NO ATTRIBUTES --- BECAUSE WE WILL INHERIT THEM FROM PARENT\n",
    "    \n",
    "    def __init__(self, name, age, color, mission_lengh_in_months):\n",
    "        # this is what gives us inheritance -- super meathod\n",
    "        # this allows us to inherit all the Person attributes\n",
    "        \n",
    "        super().__init__(name, age, color)\n",
    "        self.mission_lengh_months = mission_lengh_in_months\n",
    "        \n",
    "    # Meathod for calculating age upon return --- using PARENT meathod\n",
    "    def age_on_resturn(self):\n",
    "        return self.projected_age(years=int(self.mission_lengh_months/12))"
   ]
  },
  {
   "cell_type": "code",
   "execution_count": 63,
   "id": "49fab29e",
   "metadata": {},
   "outputs": [],
   "source": [
    "new_astronaut = Astronaut('Bob', 34, 'red', 50)"
   ]
  },
  {
   "cell_type": "code",
   "execution_count": 64,
   "id": "5fa9f458",
   "metadata": {},
   "outputs": [
    {
     "data": {
      "text/plain": [
       "'red'"
      ]
     },
     "execution_count": 64,
     "metadata": {},
     "output_type": "execute_result"
    }
   ],
   "source": [
    "#Access parent like attribute\n",
    "new_astronaut.color"
   ]
  },
  {
   "cell_type": "code",
   "execution_count": 65,
   "id": "eb384b05",
   "metadata": {},
   "outputs": [
    {
     "data": {
      "text/plain": [
       "1987"
      ]
     },
     "execution_count": 65,
     "metadata": {},
     "output_type": "execute_result"
    }
   ],
   "source": [
    "#access the methods\n",
    "new_astronaut.year_of_birth()"
   ]
  },
  {
   "cell_type": "code",
   "execution_count": 66,
   "id": "619f2854",
   "metadata": {},
   "outputs": [
    {
     "data": {
      "text/plain": [
       "38"
      ]
     },
     "execution_count": 66,
     "metadata": {},
     "output_type": "execute_result"
    }
   ],
   "source": [
    "#run a meathod\n",
    "new_astronaut.age_on_resturn()"
   ]
  },
  {
   "cell_type": "markdown",
   "id": "cae2b65b",
   "metadata": {},
   "source": [
    "# Modules - mudulize code"
   ]
  },
  {
   "cell_type": "code",
   "execution_count": 74,
   "id": "b77cab6d",
   "metadata": {},
   "outputs": [],
   "source": [
    "# import launch codes helper from file in same directory\n",
    "from helpers import launch_codes\n"
   ]
  },
  {
   "cell_type": "code",
   "execution_count": 75,
   "id": "f435a95b",
   "metadata": {},
   "outputs": [
    {
     "data": {
      "text/plain": [
       "123456789"
      ]
     },
     "execution_count": 75,
     "metadata": {},
     "output_type": "execute_result"
    }
   ],
   "source": [
    "launch_codes()"
   ]
  },
  {
   "cell_type": "markdown",
   "id": "da0f72d0",
   "metadata": {},
   "source": [
    "# Working with Packages"
   ]
  },
  {
   "cell_type": "code",
   "execution_count": null,
   "id": "5f767352",
   "metadata": {},
   "outputs": [],
   "source": [
    "pip install requests\n",
    "#!pip install requests --- more correct way, to install into this enviorment"
   ]
  },
  {
   "cell_type": "code",
   "execution_count": null,
   "id": "297f73e0",
   "metadata": {},
   "outputs": [],
   "source": [
    "!pip list"
   ]
  },
  {
   "cell_type": "code",
   "execution_count": 9,
   "id": "5b958e97",
   "metadata": {},
   "outputs": [],
   "source": [
    "#import request into notebook\n",
    "import requests"
   ]
  },
  {
   "cell_type": "markdown",
   "id": "650526de",
   "metadata": {},
   "source": [
    "# API CALLS"
   ]
  },
  {
   "cell_type": "code",
   "execution_count": 10,
   "id": "0123a3d7",
   "metadata": {},
   "outputs": [],
   "source": [
    "requests.get?? #most popular meathod"
   ]
  },
  {
   "cell_type": "code",
   "execution_count": 47,
   "id": "c045aeca",
   "metadata": {},
   "outputs": [],
   "source": [
    "# I can haz dad jake api endpoint (the url that you need to be hitting)\n",
    "joke_url = 'https://icanhazdadjoke.com/'\n",
    "\n",
    "# Iss API Endpoint\n",
    "iss_url = 'https://api.wheretheiss.at/v1/satellites/25544'"
   ]
  },
  {
   "cell_type": "code",
   "execution_count": 55,
   "id": "f832e7da",
   "metadata": {},
   "outputs": [],
   "source": [
    "#this is setting up a header\n",
    "#meta data (like authentication token, what type of data you want, or what data you are sending)\n",
    "#we only want to accept json data\n",
    "my_header = {'Accept':'application/json'} \n",
    "\n",
    "# this is the API call #401 code or anything in the 400 means you likly have to pass something to the token\n",
    "results = requests.get(joke_url, headers=my_header)"
   ]
  },
  {
   "cell_type": "code",
   "execution_count": 49,
   "id": "fda35320",
   "metadata": {},
   "outputs": [],
   "source": [
    "json_result = results.json()"
   ]
  },
  {
   "cell_type": "code",
   "execution_count": 50,
   "id": "60ac8ff7",
   "metadata": {},
   "outputs": [
    {
     "data": {
      "text/plain": [
       "dict"
      ]
     },
     "execution_count": 50,
     "metadata": {},
     "output_type": "execute_result"
    }
   ],
   "source": [
    "type(json_result)"
   ]
  },
  {
   "cell_type": "code",
   "execution_count": 51,
   "id": "2c97f161",
   "metadata": {},
   "outputs": [
    {
     "data": {
      "text/plain": [
       "\"As I get older, I think of all the people I lost along the way. Maybe a career as a tour guide wasn't such a good idea.\""
      ]
     },
     "execution_count": 51,
     "metadata": {},
     "output_type": "execute_result"
    }
   ],
   "source": [
    "json_result['joke']"
   ]
  },
  {
   "cell_type": "code",
   "execution_count": 52,
   "id": "3e4088c4",
   "metadata": {},
   "outputs": [],
   "source": [
    "iss_results = requests.get(iss_url, headers=my_header)"
   ]
  },
  {
   "cell_type": "code",
   "execution_count": 53,
   "id": "68441968",
   "metadata": {},
   "outputs": [
    {
     "data": {
      "text/plain": [
       "<Response [200]>"
      ]
     },
     "execution_count": 53,
     "metadata": {},
     "output_type": "execute_result"
    }
   ],
   "source": [
    "iss_results"
   ]
  },
  {
   "cell_type": "code",
   "execution_count": 71,
   "id": "3c155a35",
   "metadata": {},
   "outputs": [],
   "source": [
    "#extract JSON results from API\n",
    "json_result = iss_results.json()"
   ]
  },
  {
   "cell_type": "code",
   "execution_count": 65,
   "id": "4707b404",
   "metadata": {},
   "outputs": [
    {
     "data": {
      "text/plain": [
       "dict"
      ]
     },
     "execution_count": 65,
     "metadata": {},
     "output_type": "execute_result"
    }
   ],
   "source": [
    "type(json_result)"
   ]
  },
  {
   "cell_type": "code",
   "execution_count": 66,
   "id": "7b9679b7",
   "metadata": {},
   "outputs": [
    {
     "data": {
      "text/plain": [
       "{'name': 'iss',\n",
       " 'id': 25544,\n",
       " 'latitude': -26.587935690571,\n",
       " 'longitude': -54.277518968335,\n",
       " 'altitude': 426.48930840906,\n",
       " 'velocity': 27554.534407631,\n",
       " 'visibility': 'daylight',\n",
       " 'footprint': 4540.3318912127,\n",
       " 'timestamp': 1687291000,\n",
       " 'daynum': 2460116.3310185,\n",
       " 'solar_lat': 23.436267235984,\n",
       " 'solar_lon': 241.24010701126,\n",
       " 'units': 'kilometers'}"
      ]
     },
     "execution_count": 66,
     "metadata": {},
     "output_type": "execute_result"
    }
   ],
   "source": [
    "json_result"
   ]
  },
  {
   "cell_type": "code",
   "execution_count": 69,
   "id": "8d552c5b",
   "metadata": {},
   "outputs": [
    {
     "data": {
      "text/plain": [
       "'daylight'"
      ]
     },
     "execution_count": 69,
     "metadata": {},
     "output_type": "execute_result"
    }
   ],
   "source": [
    "json_result['visibility']"
   ]
  },
  {
   "cell_type": "markdown",
   "id": "418bf9e2",
   "metadata": {},
   "source": []
  },
  {
   "cell_type": "code",
   "execution_count": null,
   "id": "f6e73de9",
   "metadata": {},
   "outputs": [],
   "source": []
  },
  {
   "cell_type": "markdown",
   "id": "e5389f5c",
   "metadata": {},
   "source": [
    "# Writing / Reading / Error Handling"
   ]
  },
  {
   "cell_type": "code",
   "execution_count": 72,
   "id": "cd99d92c",
   "metadata": {},
   "outputs": [],
   "source": [
    "# write out a our mission journal\n",
    "with open('mission_jornal.txt', 'w') as f:\n",
    "    f.write(\"It's my first day on the space mission. It is verry nice.\")"
   ]
  },
  {
   "cell_type": "code",
   "execution_count": 74,
   "id": "4603c28d",
   "metadata": {},
   "outputs": [],
   "source": [
    "# read to the file\n",
    "with open('mission_jornal.txt', 'r') as f:\n",
    "    file = f.read()"
   ]
  },
  {
   "cell_type": "code",
   "execution_count": 76,
   "id": "96c304b3",
   "metadata": {},
   "outputs": [
    {
     "data": {
      "text/plain": [
       "\"It's my first day on the space mission. It is verry nice.\""
      ]
     },
     "execution_count": 76,
     "metadata": {},
     "output_type": "execute_result"
    }
   ],
   "source": [
    "file"
   ]
  },
  {
   "cell_type": "code",
   "execution_count": 77,
   "id": "b61f76ba",
   "metadata": {},
   "outputs": [],
   "source": [
    "#typically pandas, tensorflow, pytorch etc all nativally write to file (think .m5 file)"
   ]
  },
  {
   "cell_type": "markdown",
   "id": "2a4ac752",
   "metadata": {},
   "source": [
    "# Error Handling"
   ]
  },
  {
   "cell_type": "code",
   "execution_count": 79,
   "id": "d174bcd9",
   "metadata": {},
   "outputs": [],
   "source": [
    "# Create a set\n",
    "new_set = set((1,2,3,4,5,6))\n",
    "#new_set = {1,2,3,4,5,6} is the same thing"
   ]
  },
  {
   "cell_type": "code",
   "execution_count": 86,
   "id": "de850cc7",
   "metadata": {},
   "outputs": [
    {
     "name": "stdout",
     "output_type": "stream",
     "text": [
      "Something went wrong with you request\n"
     ]
    }
   ],
   "source": [
    "#Try something using the try keyword\n",
    "try:\n",
    "    # run a piece of code which may cause an error\n",
    "    new_set[0] = 4\n",
    "#if there is an error, this code will will    \n",
    "except Exception as e:\n",
    "    #print(e)\n",
    "    print('Something went wrong with you request')"
   ]
  },
  {
   "cell_type": "markdown",
   "id": "86afc047",
   "metadata": {},
   "source": [
    "# MATH"
   ]
  },
  {
   "cell_type": "code",
   "execution_count": 89,
   "id": "eee7fafa",
   "metadata": {},
   "outputs": [],
   "source": [
    "# Create two variables\n",
    "math_value_1 = 123456\n",
    "math_value_2 = 567884"
   ]
  },
  {
   "cell_type": "code",
   "execution_count": null,
   "id": "dc3a9664",
   "metadata": {},
   "outputs": [],
   "source": []
  }
 ],
 "metadata": {
  "kernelspec": {
   "display_name": "Python 3 (ipykernel)",
   "language": "python",
   "name": "python3"
  },
  "language_info": {
   "codemirror_mode": {
    "name": "ipython",
    "version": 3
   },
   "file_extension": ".py",
   "mimetype": "text/x-python",
   "name": "python",
   "nbconvert_exporter": "python",
   "pygments_lexer": "ipython3",
   "version": "3.9.13"
  }
 },
 "nbformat": 4,
 "nbformat_minor": 5
}
